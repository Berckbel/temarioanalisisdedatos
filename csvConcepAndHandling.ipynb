{
 "cells": [
  {
   "cell_type": "markdown",
   "metadata": {},
   "source": [
    "<h3>CSV concept and handling</h3>"
   ]
  },
  {
   "cell_type": "code",
   "execution_count": 2,
   "metadata": {},
   "outputs": [],
   "source": [
    "import csv"
   ]
  },
  {
   "cell_type": "code",
   "execution_count": null,
   "metadata": {},
   "outputs": [],
   "source": [
    "with open('data/files/subvenciones.csv', encoding='latin1') as csv_subv_r, open('data/files/subvenciones_totales.csv', encoding='latin1', mode='w') as csv_subv_w:\n",
    "    dict_reader = csv.DictReader(csv_subv_r)\n",
    "\n",
    "    headers = dict_reader.fieldnames + ['Justificacion requerida']\n",
    "\n",
    "    dict_writer = csv.DictWriter(csv_subv_w, fieldnames=headers)\n",
    "\n",
    "    dict_writer.writeheader()\n",
    "\n",
    "    for row in dict_reader:\n",
    "        cost = float(row['Importe'])\n",
    "        if cost > 300:\n",
    "            row['Justificacion requerida'] = \"Si\"\n",
    "        else:\n",
    "            row['Justificacion requerida'] = \"No\"\n",
    "        \n",
    "        dict_writer.writerow(row)"
   ]
  }
 ],
 "metadata": {
  "kernelspec": {
   "display_name": "env-temario",
   "language": "python",
   "name": "python3"
  },
  "language_info": {
   "codemirror_mode": {
    "name": "ipython",
    "version": 3
   },
   "file_extension": ".py",
   "mimetype": "text/x-python",
   "name": "python",
   "nbconvert_exporter": "python",
   "pygments_lexer": "ipython3",
   "version": "3.10.12"
  }
 },
 "nbformat": 4,
 "nbformat_minor": 2
}
