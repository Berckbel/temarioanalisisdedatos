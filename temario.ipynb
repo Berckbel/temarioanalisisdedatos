{
 "cells": [
  {
   "cell_type": "markdown",
   "metadata": {},
   "source": [
    "<h1>Data Analysis</h1>"
   ]
  },
  {
   "cell_type": "markdown",
   "metadata": {},
   "source": [
    "<ol>\n",
    "    <li>File handling</li>\n",
    "    <li>CSV concept and handling</li>\n",
    "    <li>Libraries used in data analysis and why</li>\n",
    "    <li>Data exploration aproach</li>\n",
    "    <li>Statistical analisis</li>\n",
    "    <li>Data handling and manipulation</li>\n",
    "    <li>Data visualization</li>\n",
    "</ol>"
   ]
  }
 ],
 "metadata": {
  "kernelspec": {
   "display_name": "env-temario",
   "language": "python",
   "name": "python3"
  },
  "language_info": {
   "codemirror_mode": {
    "name": "ipython",
    "version": 3
   },
   "file_extension": ".py",
   "mimetype": "text/x-python",
   "name": "python",
   "nbconvert_exporter": "python",
   "pygments_lexer": "ipython3",
   "version": "3.10.12"
  }
 },
 "nbformat": 4,
 "nbformat_minor": 2
}
